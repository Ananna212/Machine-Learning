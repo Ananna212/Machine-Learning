{
 "cells": [
  {
   "cell_type": "code",
   "execution_count": 1,
   "id": "e70970a4",
   "metadata": {},
   "outputs": [],
   "source": [
    "import pandas as pd\n",
    "import numpy as np\n",
    "import plotly.express as px\n",
    "import seaborn as sns\n",
    "import matplotlib.pyplot as plt\n",
    "import warnings\n",
    "warnings.filterwarnings('ignore')"
   ]
  },
  {
   "cell_type": "code",
   "execution_count": 5,
   "id": "2e94ed83",
   "metadata": {},
   "outputs": [
    {
     "data": {
      "text/html": [
       "<div>\n",
       "<style scoped>\n",
       "    .dataframe tbody tr th:only-of-type {\n",
       "        vertical-align: middle;\n",
       "    }\n",
       "\n",
       "    .dataframe tbody tr th {\n",
       "        vertical-align: top;\n",
       "    }\n",
       "\n",
       "    .dataframe thead th {\n",
       "        text-align: right;\n",
       "    }\n",
       "</style>\n",
       "<table border=\"1\" class=\"dataframe\">\n",
       "  <thead>\n",
       "    <tr style=\"text-align: right;\">\n",
       "      <th></th>\n",
       "      <th>Patient_ID</th>\n",
       "      <th>Age</th>\n",
       "      <th>Gender</th>\n",
       "      <th>Protein1</th>\n",
       "      <th>Protein2</th>\n",
       "      <th>Protein3</th>\n",
       "      <th>Protein4</th>\n",
       "      <th>Tumour_Stage</th>\n",
       "      <th>Histology</th>\n",
       "      <th>ER status</th>\n",
       "      <th>PR status</th>\n",
       "      <th>HER2 status</th>\n",
       "      <th>Surgery_type</th>\n",
       "      <th>Date_of_Surgery</th>\n",
       "      <th>Date_of_Last_Visit</th>\n",
       "      <th>Patient_Status</th>\n",
       "    </tr>\n",
       "  </thead>\n",
       "  <tbody>\n",
       "    <tr>\n",
       "      <th>0</th>\n",
       "      <td>TCGA-D8-A1XD</td>\n",
       "      <td>36</td>\n",
       "      <td>FEMALE</td>\n",
       "      <td>0.080353</td>\n",
       "      <td>0.42638</td>\n",
       "      <td>0.54715</td>\n",
       "      <td>0.273680</td>\n",
       "      <td>III</td>\n",
       "      <td>Infiltrating Ductal Carcinoma</td>\n",
       "      <td>Positive</td>\n",
       "      <td>Positive</td>\n",
       "      <td>Negative</td>\n",
       "      <td>Modified Radical Mastectomy</td>\n",
       "      <td>15-Jan-17</td>\n",
       "      <td>19-Jun-17</td>\n",
       "      <td>Alive</td>\n",
       "    </tr>\n",
       "    <tr>\n",
       "      <th>1</th>\n",
       "      <td>TCGA-EW-A1OX</td>\n",
       "      <td>43</td>\n",
       "      <td>FEMALE</td>\n",
       "      <td>-0.420320</td>\n",
       "      <td>0.57807</td>\n",
       "      <td>0.61447</td>\n",
       "      <td>-0.031505</td>\n",
       "      <td>II</td>\n",
       "      <td>Mucinous Carcinoma</td>\n",
       "      <td>Positive</td>\n",
       "      <td>Positive</td>\n",
       "      <td>Negative</td>\n",
       "      <td>Lumpectomy</td>\n",
       "      <td>26-Apr-17</td>\n",
       "      <td>9-Nov-18</td>\n",
       "      <td>Dead</td>\n",
       "    </tr>\n",
       "    <tr>\n",
       "      <th>2</th>\n",
       "      <td>TCGA-A8-A079</td>\n",
       "      <td>69</td>\n",
       "      <td>FEMALE</td>\n",
       "      <td>0.213980</td>\n",
       "      <td>1.31140</td>\n",
       "      <td>-0.32747</td>\n",
       "      <td>-0.234260</td>\n",
       "      <td>III</td>\n",
       "      <td>Infiltrating Ductal Carcinoma</td>\n",
       "      <td>Positive</td>\n",
       "      <td>Positive</td>\n",
       "      <td>Negative</td>\n",
       "      <td>Other</td>\n",
       "      <td>8-Sep-17</td>\n",
       "      <td>9-Jun-18</td>\n",
       "      <td>Alive</td>\n",
       "    </tr>\n",
       "    <tr>\n",
       "      <th>3</th>\n",
       "      <td>TCGA-D8-A1XR</td>\n",
       "      <td>56</td>\n",
       "      <td>FEMALE</td>\n",
       "      <td>0.345090</td>\n",
       "      <td>-0.21147</td>\n",
       "      <td>-0.19304</td>\n",
       "      <td>0.124270</td>\n",
       "      <td>II</td>\n",
       "      <td>Infiltrating Ductal Carcinoma</td>\n",
       "      <td>Positive</td>\n",
       "      <td>Positive</td>\n",
       "      <td>Negative</td>\n",
       "      <td>Modified Radical Mastectomy</td>\n",
       "      <td>25-Jan-17</td>\n",
       "      <td>12-Jul-17</td>\n",
       "      <td>Alive</td>\n",
       "    </tr>\n",
       "    <tr>\n",
       "      <th>4</th>\n",
       "      <td>TCGA-BH-A0BF</td>\n",
       "      <td>56</td>\n",
       "      <td>FEMALE</td>\n",
       "      <td>0.221550</td>\n",
       "      <td>1.90680</td>\n",
       "      <td>0.52045</td>\n",
       "      <td>-0.311990</td>\n",
       "      <td>II</td>\n",
       "      <td>Infiltrating Ductal Carcinoma</td>\n",
       "      <td>Positive</td>\n",
       "      <td>Positive</td>\n",
       "      <td>Negative</td>\n",
       "      <td>Other</td>\n",
       "      <td>6-May-17</td>\n",
       "      <td>27-Jun-19</td>\n",
       "      <td>Dead</td>\n",
       "    </tr>\n",
       "  </tbody>\n",
       "</table>\n",
       "</div>"
      ],
      "text/plain": [
       "     Patient_ID  Age  Gender  Protein1  Protein2  Protein3  Protein4  \\\n",
       "0  TCGA-D8-A1XD   36  FEMALE  0.080353   0.42638   0.54715  0.273680   \n",
       "1  TCGA-EW-A1OX   43  FEMALE -0.420320   0.57807   0.61447 -0.031505   \n",
       "2  TCGA-A8-A079   69  FEMALE  0.213980   1.31140  -0.32747 -0.234260   \n",
       "3  TCGA-D8-A1XR   56  FEMALE  0.345090  -0.21147  -0.19304  0.124270   \n",
       "4  TCGA-BH-A0BF   56  FEMALE  0.221550   1.90680   0.52045 -0.311990   \n",
       "\n",
       "  Tumour_Stage                      Histology ER status PR status HER2 status  \\\n",
       "0          III  Infiltrating Ductal Carcinoma  Positive  Positive    Negative   \n",
       "1           II             Mucinous Carcinoma  Positive  Positive    Negative   \n",
       "2          III  Infiltrating Ductal Carcinoma  Positive  Positive    Negative   \n",
       "3           II  Infiltrating Ductal Carcinoma  Positive  Positive    Negative   \n",
       "4           II  Infiltrating Ductal Carcinoma  Positive  Positive    Negative   \n",
       "\n",
       "                  Surgery_type Date_of_Surgery Date_of_Last_Visit  \\\n",
       "0  Modified Radical Mastectomy       15-Jan-17          19-Jun-17   \n",
       "1                   Lumpectomy       26-Apr-17           9-Nov-18   \n",
       "2                        Other        8-Sep-17           9-Jun-18   \n",
       "3  Modified Radical Mastectomy       25-Jan-17          12-Jul-17   \n",
       "4                        Other        6-May-17          27-Jun-19   \n",
       "\n",
       "  Patient_Status  \n",
       "0          Alive  \n",
       "1           Dead  \n",
       "2          Alive  \n",
       "3          Alive  \n",
       "4           Dead  "
      ]
     },
     "execution_count": 5,
     "metadata": {},
     "output_type": "execute_result"
    }
   ],
   "source": [
    "df = pd.read_csv(\"BRECAN Data.csv\")\n",
    "df.head()"
   ]
  },
  {
   "cell_type": "code",
   "execution_count": 4,
   "id": "10544e5b",
   "metadata": {},
   "outputs": [
    {
     "data": {
      "text/html": [
       "<div>\n",
       "<style scoped>\n",
       "    .dataframe tbody tr th:only-of-type {\n",
       "        vertical-align: middle;\n",
       "    }\n",
       "\n",
       "    .dataframe tbody tr th {\n",
       "        vertical-align: top;\n",
       "    }\n",
       "\n",
       "    .dataframe thead th {\n",
       "        text-align: right;\n",
       "    }\n",
       "</style>\n",
       "<table border=\"1\" class=\"dataframe\">\n",
       "  <thead>\n",
       "    <tr style=\"text-align: right;\">\n",
       "      <th></th>\n",
       "      <th>Patient_ID</th>\n",
       "      <th>Age</th>\n",
       "      <th>Gender</th>\n",
       "      <th>Protein1</th>\n",
       "      <th>Protein2</th>\n",
       "      <th>Protein3</th>\n",
       "      <th>Protein4</th>\n",
       "      <th>Tumour_Stage</th>\n",
       "      <th>Histology</th>\n",
       "      <th>ER status</th>\n",
       "      <th>PR status</th>\n",
       "      <th>HER2 status</th>\n",
       "      <th>Surgery_type</th>\n",
       "      <th>Date_of_Surgery</th>\n",
       "      <th>Date_of_Last_Visit</th>\n",
       "      <th>Patient_Status</th>\n",
       "    </tr>\n",
       "  </thead>\n",
       "  <tbody>\n",
       "    <tr>\n",
       "      <th>0</th>\n",
       "      <td>TCGA-D8-A1XD</td>\n",
       "      <td>36</td>\n",
       "      <td>FEMALE</td>\n",
       "      <td>0.080353</td>\n",
       "      <td>0.42638</td>\n",
       "      <td>0.54715</td>\n",
       "      <td>0.273680</td>\n",
       "      <td>III</td>\n",
       "      <td>Infiltrating Ductal Carcinoma</td>\n",
       "      <td>Positive</td>\n",
       "      <td>Positive</td>\n",
       "      <td>Negative</td>\n",
       "      <td>Modified Radical Mastectomy</td>\n",
       "      <td>15-Jan-17</td>\n",
       "      <td>19-Jun-17</td>\n",
       "      <td>Alive</td>\n",
       "    </tr>\n",
       "    <tr>\n",
       "      <th>1</th>\n",
       "      <td>TCGA-EW-A1OX</td>\n",
       "      <td>43</td>\n",
       "      <td>FEMALE</td>\n",
       "      <td>-0.420320</td>\n",
       "      <td>0.57807</td>\n",
       "      <td>0.61447</td>\n",
       "      <td>-0.031505</td>\n",
       "      <td>II</td>\n",
       "      <td>Mucinous Carcinoma</td>\n",
       "      <td>Positive</td>\n",
       "      <td>Positive</td>\n",
       "      <td>Negative</td>\n",
       "      <td>Lumpectomy</td>\n",
       "      <td>26-Apr-17</td>\n",
       "      <td>9-Nov-18</td>\n",
       "      <td>Dead</td>\n",
       "    </tr>\n",
       "    <tr>\n",
       "      <th>2</th>\n",
       "      <td>TCGA-A8-A079</td>\n",
       "      <td>69</td>\n",
       "      <td>FEMALE</td>\n",
       "      <td>0.213980</td>\n",
       "      <td>1.31140</td>\n",
       "      <td>-0.32747</td>\n",
       "      <td>-0.234260</td>\n",
       "      <td>III</td>\n",
       "      <td>Infiltrating Ductal Carcinoma</td>\n",
       "      <td>Positive</td>\n",
       "      <td>Positive</td>\n",
       "      <td>Negative</td>\n",
       "      <td>Other</td>\n",
       "      <td>8-Sep-17</td>\n",
       "      <td>9-Jun-18</td>\n",
       "      <td>Alive</td>\n",
       "    </tr>\n",
       "    <tr>\n",
       "      <th>3</th>\n",
       "      <td>TCGA-D8-A1XR</td>\n",
       "      <td>56</td>\n",
       "      <td>FEMALE</td>\n",
       "      <td>0.345090</td>\n",
       "      <td>-0.21147</td>\n",
       "      <td>-0.19304</td>\n",
       "      <td>0.124270</td>\n",
       "      <td>II</td>\n",
       "      <td>Infiltrating Ductal Carcinoma</td>\n",
       "      <td>Positive</td>\n",
       "      <td>Positive</td>\n",
       "      <td>Negative</td>\n",
       "      <td>Modified Radical Mastectomy</td>\n",
       "      <td>25-Jan-17</td>\n",
       "      <td>12-Jul-17</td>\n",
       "      <td>Alive</td>\n",
       "    </tr>\n",
       "    <tr>\n",
       "      <th>4</th>\n",
       "      <td>TCGA-BH-A0BF</td>\n",
       "      <td>56</td>\n",
       "      <td>FEMALE</td>\n",
       "      <td>0.221550</td>\n",
       "      <td>1.90680</td>\n",
       "      <td>0.52045</td>\n",
       "      <td>-0.311990</td>\n",
       "      <td>II</td>\n",
       "      <td>Infiltrating Ductal Carcinoma</td>\n",
       "      <td>Positive</td>\n",
       "      <td>Positive</td>\n",
       "      <td>Negative</td>\n",
       "      <td>Other</td>\n",
       "      <td>6-May-17</td>\n",
       "      <td>27-Jun-19</td>\n",
       "      <td>Dead</td>\n",
       "    </tr>\n",
       "    <tr>\n",
       "      <th>...</th>\n",
       "      <td>...</td>\n",
       "      <td>...</td>\n",
       "      <td>...</td>\n",
       "      <td>...</td>\n",
       "      <td>...</td>\n",
       "      <td>...</td>\n",
       "      <td>...</td>\n",
       "      <td>...</td>\n",
       "      <td>...</td>\n",
       "      <td>...</td>\n",
       "      <td>...</td>\n",
       "      <td>...</td>\n",
       "      <td>...</td>\n",
       "      <td>...</td>\n",
       "      <td>...</td>\n",
       "      <td>...</td>\n",
       "    </tr>\n",
       "    <tr>\n",
       "      <th>329</th>\n",
       "      <td>TCGA-AN-A04A</td>\n",
       "      <td>36</td>\n",
       "      <td>FEMALE</td>\n",
       "      <td>0.231800</td>\n",
       "      <td>0.61804</td>\n",
       "      <td>-0.55779</td>\n",
       "      <td>-0.517350</td>\n",
       "      <td>III</td>\n",
       "      <td>Infiltrating Ductal Carcinoma</td>\n",
       "      <td>Positive</td>\n",
       "      <td>Positive</td>\n",
       "      <td>Positive</td>\n",
       "      <td>Simple Mastectomy</td>\n",
       "      <td>11-Nov-19</td>\n",
       "      <td>9-Feb-20</td>\n",
       "      <td>Dead</td>\n",
       "    </tr>\n",
       "    <tr>\n",
       "      <th>330</th>\n",
       "      <td>TCGA-A8-A085</td>\n",
       "      <td>44</td>\n",
       "      <td>MALE</td>\n",
       "      <td>0.732720</td>\n",
       "      <td>1.11170</td>\n",
       "      <td>-0.26952</td>\n",
       "      <td>-0.354920</td>\n",
       "      <td>II</td>\n",
       "      <td>Infiltrating Lobular Carcinoma</td>\n",
       "      <td>Positive</td>\n",
       "      <td>Positive</td>\n",
       "      <td>Negative</td>\n",
       "      <td>Other</td>\n",
       "      <td>1-Nov-19</td>\n",
       "      <td>4-Mar-20</td>\n",
       "      <td>Dead</td>\n",
       "    </tr>\n",
       "    <tr>\n",
       "      <th>331</th>\n",
       "      <td>TCGA-A1-A0SG</td>\n",
       "      <td>61</td>\n",
       "      <td>FEMALE</td>\n",
       "      <td>-0.719470</td>\n",
       "      <td>2.54850</td>\n",
       "      <td>-0.15024</td>\n",
       "      <td>0.339680</td>\n",
       "      <td>II</td>\n",
       "      <td>Infiltrating Ductal Carcinoma</td>\n",
       "      <td>Positive</td>\n",
       "      <td>Positive</td>\n",
       "      <td>Negative</td>\n",
       "      <td>Lumpectomy</td>\n",
       "      <td>11-Nov-19</td>\n",
       "      <td>18-Jan-21</td>\n",
       "      <td>Dead</td>\n",
       "    </tr>\n",
       "    <tr>\n",
       "      <th>332</th>\n",
       "      <td>TCGA-A2-A0EU</td>\n",
       "      <td>79</td>\n",
       "      <td>FEMALE</td>\n",
       "      <td>0.479400</td>\n",
       "      <td>2.05590</td>\n",
       "      <td>-0.53136</td>\n",
       "      <td>-0.188480</td>\n",
       "      <td>I</td>\n",
       "      <td>Infiltrating Ductal Carcinoma</td>\n",
       "      <td>Positive</td>\n",
       "      <td>Positive</td>\n",
       "      <td>Positive</td>\n",
       "      <td>Lumpectomy</td>\n",
       "      <td>21-Nov-19</td>\n",
       "      <td>19-Feb-21</td>\n",
       "      <td>Dead</td>\n",
       "    </tr>\n",
       "    <tr>\n",
       "      <th>333</th>\n",
       "      <td>TCGA-B6-A40B</td>\n",
       "      <td>76</td>\n",
       "      <td>FEMALE</td>\n",
       "      <td>-0.244270</td>\n",
       "      <td>0.92556</td>\n",
       "      <td>-0.41823</td>\n",
       "      <td>-0.067848</td>\n",
       "      <td>I</td>\n",
       "      <td>Infiltrating Ductal Carcinoma</td>\n",
       "      <td>Positive</td>\n",
       "      <td>Positive</td>\n",
       "      <td>Negative</td>\n",
       "      <td>Lumpectomy</td>\n",
       "      <td>11-Nov-19</td>\n",
       "      <td>5-Jan-21</td>\n",
       "      <td>Dead</td>\n",
       "    </tr>\n",
       "  </tbody>\n",
       "</table>\n",
       "<p>334 rows × 16 columns</p>\n",
       "</div>"
      ],
      "text/plain": [
       "       Patient_ID  Age  Gender  Protein1  Protein2  Protein3  Protein4  \\\n",
       "0    TCGA-D8-A1XD   36  FEMALE  0.080353   0.42638   0.54715  0.273680   \n",
       "1    TCGA-EW-A1OX   43  FEMALE -0.420320   0.57807   0.61447 -0.031505   \n",
       "2    TCGA-A8-A079   69  FEMALE  0.213980   1.31140  -0.32747 -0.234260   \n",
       "3    TCGA-D8-A1XR   56  FEMALE  0.345090  -0.21147  -0.19304  0.124270   \n",
       "4    TCGA-BH-A0BF   56  FEMALE  0.221550   1.90680   0.52045 -0.311990   \n",
       "..            ...  ...     ...       ...       ...       ...       ...   \n",
       "329  TCGA-AN-A04A   36  FEMALE  0.231800   0.61804  -0.55779 -0.517350   \n",
       "330  TCGA-A8-A085   44    MALE  0.732720   1.11170  -0.26952 -0.354920   \n",
       "331  TCGA-A1-A0SG   61  FEMALE -0.719470   2.54850  -0.15024  0.339680   \n",
       "332  TCGA-A2-A0EU   79  FEMALE  0.479400   2.05590  -0.53136 -0.188480   \n",
       "333  TCGA-B6-A40B   76  FEMALE -0.244270   0.92556  -0.41823 -0.067848   \n",
       "\n",
       "    Tumour_Stage                       Histology ER status PR status  \\\n",
       "0            III   Infiltrating Ductal Carcinoma  Positive  Positive   \n",
       "1             II              Mucinous Carcinoma  Positive  Positive   \n",
       "2            III   Infiltrating Ductal Carcinoma  Positive  Positive   \n",
       "3             II   Infiltrating Ductal Carcinoma  Positive  Positive   \n",
       "4             II   Infiltrating Ductal Carcinoma  Positive  Positive   \n",
       "..           ...                             ...       ...       ...   \n",
       "329          III   Infiltrating Ductal Carcinoma  Positive  Positive   \n",
       "330           II  Infiltrating Lobular Carcinoma  Positive  Positive   \n",
       "331           II   Infiltrating Ductal Carcinoma  Positive  Positive   \n",
       "332            I   Infiltrating Ductal Carcinoma  Positive  Positive   \n",
       "333            I   Infiltrating Ductal Carcinoma  Positive  Positive   \n",
       "\n",
       "    HER2 status                 Surgery_type Date_of_Surgery  \\\n",
       "0      Negative  Modified Radical Mastectomy       15-Jan-17   \n",
       "1      Negative                   Lumpectomy       26-Apr-17   \n",
       "2      Negative                        Other        8-Sep-17   \n",
       "3      Negative  Modified Radical Mastectomy       25-Jan-17   \n",
       "4      Negative                        Other        6-May-17   \n",
       "..          ...                          ...             ...   \n",
       "329    Positive            Simple Mastectomy       11-Nov-19   \n",
       "330    Negative                        Other        1-Nov-19   \n",
       "331    Negative                   Lumpectomy       11-Nov-19   \n",
       "332    Positive                   Lumpectomy       21-Nov-19   \n",
       "333    Negative                   Lumpectomy       11-Nov-19   \n",
       "\n",
       "    Date_of_Last_Visit Patient_Status  \n",
       "0            19-Jun-17          Alive  \n",
       "1             9-Nov-18           Dead  \n",
       "2             9-Jun-18          Alive  \n",
       "3            12-Jul-17          Alive  \n",
       "4            27-Jun-19           Dead  \n",
       "..                 ...            ...  \n",
       "329           9-Feb-20           Dead  \n",
       "330           4-Mar-20           Dead  \n",
       "331          18-Jan-21           Dead  \n",
       "332          19-Feb-21           Dead  \n",
       "333           5-Jan-21           Dead  \n",
       "\n",
       "[334 rows x 16 columns]"
      ]
     },
     "execution_count": 4,
     "metadata": {},
     "output_type": "execute_result"
    }
   ],
   "source": [
    "df"
   ]
  },
  {
   "cell_type": "code",
   "execution_count": 6,
   "id": "6d476d46",
   "metadata": {},
   "outputs": [
    {
     "data": {
      "text/plain": [
       "Patient_ID             0\n",
       "Age                    0\n",
       "Gender                 0\n",
       "Protein1               0\n",
       "Protein2               0\n",
       "Protein3               0\n",
       "Protein4               0\n",
       "Tumour_Stage           0\n",
       "Histology              0\n",
       "ER status              0\n",
       "PR status              0\n",
       "HER2 status            0\n",
       "Surgery_type           0\n",
       "Date_of_Surgery        0\n",
       "Date_of_Last_Visit    17\n",
       "Patient_Status        13\n",
       "dtype: int64"
      ]
     },
     "execution_count": 6,
     "metadata": {},
     "output_type": "execute_result"
    }
   ],
   "source": [
    "#null values\n",
    "df.isnull().sum()"
   ]
  },
  {
   "cell_type": "code",
   "execution_count": 12,
   "id": "aefafaf1",
   "metadata": {},
   "outputs": [
    {
     "data": {
      "text/html": [
       "<div>\n",
       "<style scoped>\n",
       "    .dataframe tbody tr th:only-of-type {\n",
       "        vertical-align: middle;\n",
       "    }\n",
       "\n",
       "    .dataframe tbody tr th {\n",
       "        vertical-align: top;\n",
       "    }\n",
       "\n",
       "    .dataframe thead th {\n",
       "        text-align: right;\n",
       "    }\n",
       "</style>\n",
       "<table border=\"1\" class=\"dataframe\">\n",
       "  <thead>\n",
       "    <tr style=\"text-align: right;\">\n",
       "      <th></th>\n",
       "      <th>Patient_ID</th>\n",
       "      <th>Age</th>\n",
       "      <th>Gender</th>\n",
       "      <th>Protein1</th>\n",
       "      <th>Protein2</th>\n",
       "      <th>Protein3</th>\n",
       "      <th>Protein4</th>\n",
       "      <th>Tumour_Stage</th>\n",
       "      <th>Histology</th>\n",
       "      <th>ER status</th>\n",
       "      <th>PR status</th>\n",
       "      <th>HER2 status</th>\n",
       "      <th>Surgery_type</th>\n",
       "      <th>Date_of_Surgery</th>\n",
       "      <th>Date_of_Last_Visit</th>\n",
       "      <th>Patient_Status</th>\n",
       "    </tr>\n",
       "  </thead>\n",
       "  <tbody>\n",
       "    <tr>\n",
       "      <th>0</th>\n",
       "      <td>False</td>\n",
       "      <td>False</td>\n",
       "      <td>False</td>\n",
       "      <td>False</td>\n",
       "      <td>False</td>\n",
       "      <td>False</td>\n",
       "      <td>False</td>\n",
       "      <td>False</td>\n",
       "      <td>False</td>\n",
       "      <td>False</td>\n",
       "      <td>False</td>\n",
       "      <td>False</td>\n",
       "      <td>False</td>\n",
       "      <td>False</td>\n",
       "      <td>False</td>\n",
       "      <td>False</td>\n",
       "    </tr>\n",
       "    <tr>\n",
       "      <th>1</th>\n",
       "      <td>False</td>\n",
       "      <td>False</td>\n",
       "      <td>False</td>\n",
       "      <td>False</td>\n",
       "      <td>False</td>\n",
       "      <td>False</td>\n",
       "      <td>False</td>\n",
       "      <td>False</td>\n",
       "      <td>False</td>\n",
       "      <td>False</td>\n",
       "      <td>False</td>\n",
       "      <td>False</td>\n",
       "      <td>False</td>\n",
       "      <td>False</td>\n",
       "      <td>False</td>\n",
       "      <td>False</td>\n",
       "    </tr>\n",
       "    <tr>\n",
       "      <th>2</th>\n",
       "      <td>False</td>\n",
       "      <td>False</td>\n",
       "      <td>False</td>\n",
       "      <td>False</td>\n",
       "      <td>False</td>\n",
       "      <td>False</td>\n",
       "      <td>False</td>\n",
       "      <td>False</td>\n",
       "      <td>False</td>\n",
       "      <td>False</td>\n",
       "      <td>False</td>\n",
       "      <td>False</td>\n",
       "      <td>False</td>\n",
       "      <td>False</td>\n",
       "      <td>False</td>\n",
       "      <td>False</td>\n",
       "    </tr>\n",
       "    <tr>\n",
       "      <th>3</th>\n",
       "      <td>False</td>\n",
       "      <td>False</td>\n",
       "      <td>False</td>\n",
       "      <td>False</td>\n",
       "      <td>False</td>\n",
       "      <td>False</td>\n",
       "      <td>False</td>\n",
       "      <td>False</td>\n",
       "      <td>False</td>\n",
       "      <td>False</td>\n",
       "      <td>False</td>\n",
       "      <td>False</td>\n",
       "      <td>False</td>\n",
       "      <td>False</td>\n",
       "      <td>False</td>\n",
       "      <td>False</td>\n",
       "    </tr>\n",
       "    <tr>\n",
       "      <th>4</th>\n",
       "      <td>False</td>\n",
       "      <td>False</td>\n",
       "      <td>False</td>\n",
       "      <td>False</td>\n",
       "      <td>False</td>\n",
       "      <td>False</td>\n",
       "      <td>False</td>\n",
       "      <td>False</td>\n",
       "      <td>False</td>\n",
       "      <td>False</td>\n",
       "      <td>False</td>\n",
       "      <td>False</td>\n",
       "      <td>False</td>\n",
       "      <td>False</td>\n",
       "      <td>False</td>\n",
       "      <td>False</td>\n",
       "    </tr>\n",
       "    <tr>\n",
       "      <th>...</th>\n",
       "      <td>...</td>\n",
       "      <td>...</td>\n",
       "      <td>...</td>\n",
       "      <td>...</td>\n",
       "      <td>...</td>\n",
       "      <td>...</td>\n",
       "      <td>...</td>\n",
       "      <td>...</td>\n",
       "      <td>...</td>\n",
       "      <td>...</td>\n",
       "      <td>...</td>\n",
       "      <td>...</td>\n",
       "      <td>...</td>\n",
       "      <td>...</td>\n",
       "      <td>...</td>\n",
       "      <td>...</td>\n",
       "    </tr>\n",
       "    <tr>\n",
       "      <th>329</th>\n",
       "      <td>False</td>\n",
       "      <td>False</td>\n",
       "      <td>False</td>\n",
       "      <td>False</td>\n",
       "      <td>False</td>\n",
       "      <td>False</td>\n",
       "      <td>False</td>\n",
       "      <td>False</td>\n",
       "      <td>False</td>\n",
       "      <td>False</td>\n",
       "      <td>False</td>\n",
       "      <td>False</td>\n",
       "      <td>False</td>\n",
       "      <td>False</td>\n",
       "      <td>False</td>\n",
       "      <td>False</td>\n",
       "    </tr>\n",
       "    <tr>\n",
       "      <th>330</th>\n",
       "      <td>False</td>\n",
       "      <td>False</td>\n",
       "      <td>False</td>\n",
       "      <td>False</td>\n",
       "      <td>False</td>\n",
       "      <td>False</td>\n",
       "      <td>False</td>\n",
       "      <td>False</td>\n",
       "      <td>False</td>\n",
       "      <td>False</td>\n",
       "      <td>False</td>\n",
       "      <td>False</td>\n",
       "      <td>False</td>\n",
       "      <td>False</td>\n",
       "      <td>False</td>\n",
       "      <td>False</td>\n",
       "    </tr>\n",
       "    <tr>\n",
       "      <th>331</th>\n",
       "      <td>False</td>\n",
       "      <td>False</td>\n",
       "      <td>False</td>\n",
       "      <td>False</td>\n",
       "      <td>False</td>\n",
       "      <td>False</td>\n",
       "      <td>False</td>\n",
       "      <td>False</td>\n",
       "      <td>False</td>\n",
       "      <td>False</td>\n",
       "      <td>False</td>\n",
       "      <td>False</td>\n",
       "      <td>False</td>\n",
       "      <td>False</td>\n",
       "      <td>False</td>\n",
       "      <td>False</td>\n",
       "    </tr>\n",
       "    <tr>\n",
       "      <th>332</th>\n",
       "      <td>False</td>\n",
       "      <td>False</td>\n",
       "      <td>False</td>\n",
       "      <td>False</td>\n",
       "      <td>False</td>\n",
       "      <td>False</td>\n",
       "      <td>False</td>\n",
       "      <td>False</td>\n",
       "      <td>False</td>\n",
       "      <td>False</td>\n",
       "      <td>False</td>\n",
       "      <td>False</td>\n",
       "      <td>False</td>\n",
       "      <td>False</td>\n",
       "      <td>False</td>\n",
       "      <td>False</td>\n",
       "    </tr>\n",
       "    <tr>\n",
       "      <th>333</th>\n",
       "      <td>False</td>\n",
       "      <td>False</td>\n",
       "      <td>False</td>\n",
       "      <td>False</td>\n",
       "      <td>False</td>\n",
       "      <td>False</td>\n",
       "      <td>False</td>\n",
       "      <td>False</td>\n",
       "      <td>False</td>\n",
       "      <td>False</td>\n",
       "      <td>False</td>\n",
       "      <td>False</td>\n",
       "      <td>False</td>\n",
       "      <td>False</td>\n",
       "      <td>False</td>\n",
       "      <td>False</td>\n",
       "    </tr>\n",
       "  </tbody>\n",
       "</table>\n",
       "<p>317 rows × 16 columns</p>\n",
       "</div>"
      ],
      "text/plain": [
       "     Patient_ID    Age  Gender  Protein1  Protein2  Protein3  Protein4  \\\n",
       "0         False  False   False     False     False     False     False   \n",
       "1         False  False   False     False     False     False     False   \n",
       "2         False  False   False     False     False     False     False   \n",
       "3         False  False   False     False     False     False     False   \n",
       "4         False  False   False     False     False     False     False   \n",
       "..          ...    ...     ...       ...       ...       ...       ...   \n",
       "329       False  False   False     False     False     False     False   \n",
       "330       False  False   False     False     False     False     False   \n",
       "331       False  False   False     False     False     False     False   \n",
       "332       False  False   False     False     False     False     False   \n",
       "333       False  False   False     False     False     False     False   \n",
       "\n",
       "     Tumour_Stage  Histology  ER status  PR status  HER2 status  Surgery_type  \\\n",
       "0           False      False      False      False        False         False   \n",
       "1           False      False      False      False        False         False   \n",
       "2           False      False      False      False        False         False   \n",
       "3           False      False      False      False        False         False   \n",
       "4           False      False      False      False        False         False   \n",
       "..            ...        ...        ...        ...          ...           ...   \n",
       "329         False      False      False      False        False         False   \n",
       "330         False      False      False      False        False         False   \n",
       "331         False      False      False      False        False         False   \n",
       "332         False      False      False      False        False         False   \n",
       "333         False      False      False      False        False         False   \n",
       "\n",
       "     Date_of_Surgery  Date_of_Last_Visit  Patient_Status  \n",
       "0              False               False           False  \n",
       "1              False               False           False  \n",
       "2              False               False           False  \n",
       "3              False               False           False  \n",
       "4              False               False           False  \n",
       "..               ...                 ...             ...  \n",
       "329            False               False           False  \n",
       "330            False               False           False  \n",
       "331            False               False           False  \n",
       "332            False               False           False  \n",
       "333            False               False           False  \n",
       "\n",
       "[317 rows x 16 columns]"
      ]
     },
     "execution_count": 12,
     "metadata": {},
     "output_type": "execute_result"
    }
   ],
   "source": [
    "df.isnull()"
   ]
  },
  {
   "cell_type": "code",
   "execution_count": 7,
   "id": "2bf37a6a",
   "metadata": {},
   "outputs": [
    {
     "data": {
      "text/plain": [
       "(334, 16)"
      ]
     },
     "execution_count": 7,
     "metadata": {},
     "output_type": "execute_result"
    }
   ],
   "source": [
    "df.shape"
   ]
  },
  {
   "cell_type": "code",
   "execution_count": 8,
   "id": "d3fde5e3",
   "metadata": {},
   "outputs": [],
   "source": [
    "#drop all null values\n",
    "df.dropna(inplace=True)"
   ]
  },
  {
   "cell_type": "code",
   "execution_count": 9,
   "id": "d5b47ab7",
   "metadata": {},
   "outputs": [
    {
     "data": {
      "text/html": [
       "<div>\n",
       "<style scoped>\n",
       "    .dataframe tbody tr th:only-of-type {\n",
       "        vertical-align: middle;\n",
       "    }\n",
       "\n",
       "    .dataframe tbody tr th {\n",
       "        vertical-align: top;\n",
       "    }\n",
       "\n",
       "    .dataframe thead th {\n",
       "        text-align: right;\n",
       "    }\n",
       "</style>\n",
       "<table border=\"1\" class=\"dataframe\">\n",
       "  <thead>\n",
       "    <tr style=\"text-align: right;\">\n",
       "      <th></th>\n",
       "      <th>Patient_ID</th>\n",
       "      <th>Age</th>\n",
       "      <th>Gender</th>\n",
       "      <th>Protein1</th>\n",
       "      <th>Protein2</th>\n",
       "      <th>Protein3</th>\n",
       "      <th>Protein4</th>\n",
       "      <th>Tumour_Stage</th>\n",
       "      <th>Histology</th>\n",
       "      <th>ER status</th>\n",
       "      <th>PR status</th>\n",
       "      <th>HER2 status</th>\n",
       "      <th>Surgery_type</th>\n",
       "      <th>Date_of_Surgery</th>\n",
       "      <th>Date_of_Last_Visit</th>\n",
       "      <th>Patient_Status</th>\n",
       "    </tr>\n",
       "  </thead>\n",
       "  <tbody>\n",
       "    <tr>\n",
       "      <th>0</th>\n",
       "      <td>TCGA-D8-A1XD</td>\n",
       "      <td>36</td>\n",
       "      <td>FEMALE</td>\n",
       "      <td>0.080353</td>\n",
       "      <td>0.42638</td>\n",
       "      <td>0.54715</td>\n",
       "      <td>0.273680</td>\n",
       "      <td>III</td>\n",
       "      <td>Infiltrating Ductal Carcinoma</td>\n",
       "      <td>Positive</td>\n",
       "      <td>Positive</td>\n",
       "      <td>Negative</td>\n",
       "      <td>Modified Radical Mastectomy</td>\n",
       "      <td>15-Jan-17</td>\n",
       "      <td>19-Jun-17</td>\n",
       "      <td>Alive</td>\n",
       "    </tr>\n",
       "    <tr>\n",
       "      <th>1</th>\n",
       "      <td>TCGA-EW-A1OX</td>\n",
       "      <td>43</td>\n",
       "      <td>FEMALE</td>\n",
       "      <td>-0.420320</td>\n",
       "      <td>0.57807</td>\n",
       "      <td>0.61447</td>\n",
       "      <td>-0.031505</td>\n",
       "      <td>II</td>\n",
       "      <td>Mucinous Carcinoma</td>\n",
       "      <td>Positive</td>\n",
       "      <td>Positive</td>\n",
       "      <td>Negative</td>\n",
       "      <td>Lumpectomy</td>\n",
       "      <td>26-Apr-17</td>\n",
       "      <td>9-Nov-18</td>\n",
       "      <td>Dead</td>\n",
       "    </tr>\n",
       "    <tr>\n",
       "      <th>2</th>\n",
       "      <td>TCGA-A8-A079</td>\n",
       "      <td>69</td>\n",
       "      <td>FEMALE</td>\n",
       "      <td>0.213980</td>\n",
       "      <td>1.31140</td>\n",
       "      <td>-0.32747</td>\n",
       "      <td>-0.234260</td>\n",
       "      <td>III</td>\n",
       "      <td>Infiltrating Ductal Carcinoma</td>\n",
       "      <td>Positive</td>\n",
       "      <td>Positive</td>\n",
       "      <td>Negative</td>\n",
       "      <td>Other</td>\n",
       "      <td>8-Sep-17</td>\n",
       "      <td>9-Jun-18</td>\n",
       "      <td>Alive</td>\n",
       "    </tr>\n",
       "    <tr>\n",
       "      <th>3</th>\n",
       "      <td>TCGA-D8-A1XR</td>\n",
       "      <td>56</td>\n",
       "      <td>FEMALE</td>\n",
       "      <td>0.345090</td>\n",
       "      <td>-0.21147</td>\n",
       "      <td>-0.19304</td>\n",
       "      <td>0.124270</td>\n",
       "      <td>II</td>\n",
       "      <td>Infiltrating Ductal Carcinoma</td>\n",
       "      <td>Positive</td>\n",
       "      <td>Positive</td>\n",
       "      <td>Negative</td>\n",
       "      <td>Modified Radical Mastectomy</td>\n",
       "      <td>25-Jan-17</td>\n",
       "      <td>12-Jul-17</td>\n",
       "      <td>Alive</td>\n",
       "    </tr>\n",
       "    <tr>\n",
       "      <th>4</th>\n",
       "      <td>TCGA-BH-A0BF</td>\n",
       "      <td>56</td>\n",
       "      <td>FEMALE</td>\n",
       "      <td>0.221550</td>\n",
       "      <td>1.90680</td>\n",
       "      <td>0.52045</td>\n",
       "      <td>-0.311990</td>\n",
       "      <td>II</td>\n",
       "      <td>Infiltrating Ductal Carcinoma</td>\n",
       "      <td>Positive</td>\n",
       "      <td>Positive</td>\n",
       "      <td>Negative</td>\n",
       "      <td>Other</td>\n",
       "      <td>6-May-17</td>\n",
       "      <td>27-Jun-19</td>\n",
       "      <td>Dead</td>\n",
       "    </tr>\n",
       "  </tbody>\n",
       "</table>\n",
       "</div>"
      ],
      "text/plain": [
       "     Patient_ID  Age  Gender  Protein1  Protein2  Protein3  Protein4  \\\n",
       "0  TCGA-D8-A1XD   36  FEMALE  0.080353   0.42638   0.54715  0.273680   \n",
       "1  TCGA-EW-A1OX   43  FEMALE -0.420320   0.57807   0.61447 -0.031505   \n",
       "2  TCGA-A8-A079   69  FEMALE  0.213980   1.31140  -0.32747 -0.234260   \n",
       "3  TCGA-D8-A1XR   56  FEMALE  0.345090  -0.21147  -0.19304  0.124270   \n",
       "4  TCGA-BH-A0BF   56  FEMALE  0.221550   1.90680   0.52045 -0.311990   \n",
       "\n",
       "  Tumour_Stage                      Histology ER status PR status HER2 status  \\\n",
       "0          III  Infiltrating Ductal Carcinoma  Positive  Positive    Negative   \n",
       "1           II             Mucinous Carcinoma  Positive  Positive    Negative   \n",
       "2          III  Infiltrating Ductal Carcinoma  Positive  Positive    Negative   \n",
       "3           II  Infiltrating Ductal Carcinoma  Positive  Positive    Negative   \n",
       "4           II  Infiltrating Ductal Carcinoma  Positive  Positive    Negative   \n",
       "\n",
       "                  Surgery_type Date_of_Surgery Date_of_Last_Visit  \\\n",
       "0  Modified Radical Mastectomy       15-Jan-17          19-Jun-17   \n",
       "1                   Lumpectomy       26-Apr-17           9-Nov-18   \n",
       "2                        Other        8-Sep-17           9-Jun-18   \n",
       "3  Modified Radical Mastectomy       25-Jan-17          12-Jul-17   \n",
       "4                        Other        6-May-17          27-Jun-19   \n",
       "\n",
       "  Patient_Status  \n",
       "0          Alive  \n",
       "1           Dead  \n",
       "2          Alive  \n",
       "3          Alive  \n",
       "4           Dead  "
      ]
     },
     "execution_count": 9,
     "metadata": {},
     "output_type": "execute_result"
    }
   ],
   "source": [
    "df.head()"
   ]
  },
  {
   "cell_type": "code",
   "execution_count": 10,
   "id": "aa9951d7",
   "metadata": {},
   "outputs": [
    {
     "data": {
      "text/plain": [
       "(317, 16)"
      ]
     },
     "execution_count": 10,
     "metadata": {},
     "output_type": "execute_result"
    }
   ],
   "source": [
    "df.shape"
   ]
  },
  {
   "cell_type": "code",
   "execution_count": 11,
   "id": "cbe38580",
   "metadata": {},
   "outputs": [
    {
     "name": "stdout",
     "output_type": "stream",
     "text": [
      "<class 'pandas.core.frame.DataFrame'>\n",
      "Index: 317 entries, 0 to 333\n",
      "Data columns (total 16 columns):\n",
      " #   Column              Non-Null Count  Dtype  \n",
      "---  ------              --------------  -----  \n",
      " 0   Patient_ID          317 non-null    object \n",
      " 1   Age                 317 non-null    int64  \n",
      " 2   Gender              317 non-null    object \n",
      " 3   Protein1            317 non-null    float64\n",
      " 4   Protein2            317 non-null    float64\n",
      " 5   Protein3            317 non-null    float64\n",
      " 6   Protein4            317 non-null    float64\n",
      " 7   Tumour_Stage        317 non-null    object \n",
      " 8   Histology           317 non-null    object \n",
      " 9   ER status           317 non-null    object \n",
      " 10  PR status           317 non-null    object \n",
      " 11  HER2 status         317 non-null    object \n",
      " 12  Surgery_type        317 non-null    object \n",
      " 13  Date_of_Surgery     317 non-null    object \n",
      " 14  Date_of_Last_Visit  317 non-null    object \n",
      " 15  Patient_Status      317 non-null    object \n",
      "dtypes: float64(4), int64(1), object(11)\n",
      "memory usage: 42.1+ KB\n"
     ]
    }
   ],
   "source": [
    "df.info()"
   ]
  },
  {
   "cell_type": "code",
   "execution_count": 13,
   "id": "92bb2d40",
   "metadata": {},
   "outputs": [
    {
     "data": {
      "text/plain": [
       "Gender\n",
       "FEMALE    313\n",
       "MALE        4\n",
       "Name: count, dtype: int64"
      ]
     },
     "execution_count": 13,
     "metadata": {},
     "output_type": "execute_result"
    }
   ],
   "source": [
    "df.Gender.value_counts() //highly imbalance"
   ]
  },
  {
   "cell_type": "code",
   "execution_count": 14,
   "id": "c61aede9",
   "metadata": {},
   "outputs": [
    {
     "name": "stdout",
     "output_type": "stream",
     "text": [
      "Patient Status in 100%\n"
     ]
    },
    {
     "data": {
      "text/plain": [
       "Patient_Status\n",
       "Alive    80.4\n",
       "Dead     19.6\n",
       "Name: count, dtype: float64"
      ]
     },
     "execution_count": 14,
     "metadata": {},
     "output_type": "execute_result"
    }
   ],
   "source": [
    "print('Patient Status in 100%')\n",
    "round(df.Patient_Status.value_counts()*100/len(df),1)"
   ]
  },
  {
   "cell_type": "markdown",
   "id": "97de8d6d",
   "metadata": {},
   "source": [
    "# Visualization"
   ]
  },
  {
   "cell_type": "code",
   "execution_count": 40,
   "id": "7b0d0a32",
   "metadata": {},
   "outputs": [],
   "source": [
    "#show pie-chart\n",
    "Patient_Status = df['Patient_Status'].value_counts()\n",
    "transactions = Patient_Status.index\n",
    "quantity = Patient_Status.values\n",
    "\n",
    "figure = px.pie(df,\n",
    "               values=quantity,\n",
    "               names=transactions, hole = .60,\n",
    "               title=\"Patient Status\")\n",
    "plt.show()"
   ]
  },
  {
   "cell_type": "code",
   "execution_count": 20,
   "id": "979755b8",
   "metadata": {},
   "outputs": [
    {
     "data": {
      "text/plain": [
       "Index(['Patient_ID', 'Age', 'Gender', 'Protein1', 'Protein2', 'Protein3',\n",
       "       'Protein4', 'Tumour_Stage', 'Histology', 'ER status', 'PR status',\n",
       "       'HER2 status', 'Surgery_type', 'Date_of_Surgery', 'Date_of_Last_Visit',\n",
       "       'Patient_Status'],\n",
       "      dtype='object')"
      ]
     },
     "execution_count": 20,
     "metadata": {},
     "output_type": "execute_result"
    }
   ],
   "source": [
    "df.columns"
   ]
  },
  {
   "cell_type": "code",
   "execution_count": 33,
   "id": "0d820ecd",
   "metadata": {},
   "outputs": [],
   "source": [
    "#show pie-chart\n",
    "stage = df[\"Tumour_Stage\"].value_counts()\n",
    "transactions = stage.index\n",
    "quantity = stage.values\n",
    "\n",
    "figure = px.pie(\n",
    "    names=transactions,\n",
    "    values=quantity,\n",
    "    hole=0.5,\n",
    "    title=\"Tumour Stage Of Patients\"\n",
    ")\n",
    "\n",
    "# Explicitly display the figure\n",
    "plt.show()"
   ]
  },
  {
   "cell_type": "code",
   "execution_count": 23,
   "id": "1050b9df",
   "metadata": {},
   "outputs": [],
   "source": [
    "df.drop(['Patient_ID','ER status', 'PR status', 'Date_of_Surgery','Date_of_Last_Visit'], axis=1, inplace=True)"
   ]
  },
  {
   "cell_type": "code",
   "execution_count": 24,
   "id": "5c85af1f",
   "metadata": {},
   "outputs": [
    {
     "data": {
      "text/html": [
       "<div>\n",
       "<style scoped>\n",
       "    .dataframe tbody tr th:only-of-type {\n",
       "        vertical-align: middle;\n",
       "    }\n",
       "\n",
       "    .dataframe tbody tr th {\n",
       "        vertical-align: top;\n",
       "    }\n",
       "\n",
       "    .dataframe thead th {\n",
       "        text-align: right;\n",
       "    }\n",
       "</style>\n",
       "<table border=\"1\" class=\"dataframe\">\n",
       "  <thead>\n",
       "    <tr style=\"text-align: right;\">\n",
       "      <th></th>\n",
       "      <th>Age</th>\n",
       "      <th>Gender</th>\n",
       "      <th>Protein1</th>\n",
       "      <th>Protein2</th>\n",
       "      <th>Protein3</th>\n",
       "      <th>Protein4</th>\n",
       "      <th>Tumour_Stage</th>\n",
       "      <th>Histology</th>\n",
       "      <th>HER2 status</th>\n",
       "      <th>Surgery_type</th>\n",
       "      <th>Patient_Status</th>\n",
       "    </tr>\n",
       "  </thead>\n",
       "  <tbody>\n",
       "    <tr>\n",
       "      <th>0</th>\n",
       "      <td>36</td>\n",
       "      <td>FEMALE</td>\n",
       "      <td>0.080353</td>\n",
       "      <td>0.42638</td>\n",
       "      <td>0.54715</td>\n",
       "      <td>0.273680</td>\n",
       "      <td>III</td>\n",
       "      <td>Infiltrating Ductal Carcinoma</td>\n",
       "      <td>Negative</td>\n",
       "      <td>Modified Radical Mastectomy</td>\n",
       "      <td>Alive</td>\n",
       "    </tr>\n",
       "    <tr>\n",
       "      <th>1</th>\n",
       "      <td>43</td>\n",
       "      <td>FEMALE</td>\n",
       "      <td>-0.420320</td>\n",
       "      <td>0.57807</td>\n",
       "      <td>0.61447</td>\n",
       "      <td>-0.031505</td>\n",
       "      <td>II</td>\n",
       "      <td>Mucinous Carcinoma</td>\n",
       "      <td>Negative</td>\n",
       "      <td>Lumpectomy</td>\n",
       "      <td>Dead</td>\n",
       "    </tr>\n",
       "    <tr>\n",
       "      <th>2</th>\n",
       "      <td>69</td>\n",
       "      <td>FEMALE</td>\n",
       "      <td>0.213980</td>\n",
       "      <td>1.31140</td>\n",
       "      <td>-0.32747</td>\n",
       "      <td>-0.234260</td>\n",
       "      <td>III</td>\n",
       "      <td>Infiltrating Ductal Carcinoma</td>\n",
       "      <td>Negative</td>\n",
       "      <td>Other</td>\n",
       "      <td>Alive</td>\n",
       "    </tr>\n",
       "    <tr>\n",
       "      <th>3</th>\n",
       "      <td>56</td>\n",
       "      <td>FEMALE</td>\n",
       "      <td>0.345090</td>\n",
       "      <td>-0.21147</td>\n",
       "      <td>-0.19304</td>\n",
       "      <td>0.124270</td>\n",
       "      <td>II</td>\n",
       "      <td>Infiltrating Ductal Carcinoma</td>\n",
       "      <td>Negative</td>\n",
       "      <td>Modified Radical Mastectomy</td>\n",
       "      <td>Alive</td>\n",
       "    </tr>\n",
       "    <tr>\n",
       "      <th>4</th>\n",
       "      <td>56</td>\n",
       "      <td>FEMALE</td>\n",
       "      <td>0.221550</td>\n",
       "      <td>1.90680</td>\n",
       "      <td>0.52045</td>\n",
       "      <td>-0.311990</td>\n",
       "      <td>II</td>\n",
       "      <td>Infiltrating Ductal Carcinoma</td>\n",
       "      <td>Negative</td>\n",
       "      <td>Other</td>\n",
       "      <td>Dead</td>\n",
       "    </tr>\n",
       "  </tbody>\n",
       "</table>\n",
       "</div>"
      ],
      "text/plain": [
       "   Age  Gender  Protein1  Protein2  Protein3  Protein4 Tumour_Stage  \\\n",
       "0   36  FEMALE  0.080353   0.42638   0.54715  0.273680          III   \n",
       "1   43  FEMALE -0.420320   0.57807   0.61447 -0.031505           II   \n",
       "2   69  FEMALE  0.213980   1.31140  -0.32747 -0.234260          III   \n",
       "3   56  FEMALE  0.345090  -0.21147  -0.19304  0.124270           II   \n",
       "4   56  FEMALE  0.221550   1.90680   0.52045 -0.311990           II   \n",
       "\n",
       "                       Histology HER2 status                 Surgery_type  \\\n",
       "0  Infiltrating Ductal Carcinoma    Negative  Modified Radical Mastectomy   \n",
       "1             Mucinous Carcinoma    Negative                   Lumpectomy   \n",
       "2  Infiltrating Ductal Carcinoma    Negative                        Other   \n",
       "3  Infiltrating Ductal Carcinoma    Negative  Modified Radical Mastectomy   \n",
       "4  Infiltrating Ductal Carcinoma    Negative                        Other   \n",
       "\n",
       "  Patient_Status  \n",
       "0          Alive  \n",
       "1           Dead  \n",
       "2          Alive  \n",
       "3          Alive  \n",
       "4           Dead  "
      ]
     },
     "execution_count": 24,
     "metadata": {},
     "output_type": "execute_result"
    }
   ],
   "source": [
    "df.head()"
   ]
  },
  {
   "cell_type": "code",
   "execution_count": 27,
   "id": "dfbca500",
   "metadata": {},
   "outputs": [
    {
     "data": {
      "text/plain": [
       "Gender\n",
       "FEMALE    313\n",
       "MALE        4\n",
       "Name: count, dtype: int64"
      ]
     },
     "execution_count": 27,
     "metadata": {},
     "output_type": "execute_result"
    }
   ],
   "source": [
    "df.Gender.value_counts()"
   ]
  },
  {
   "cell_type": "code",
   "execution_count": 30,
   "id": "d4509c3d",
   "metadata": {},
   "outputs": [
    {
     "data": {
      "image/png": "[encoded data removed]",
      "text/plain": [
       "<Figure size 640x480 with 1 Axes>"
      ]
     },
     "metadata": {},
     "output_type": "display_data"
    },
    {
     "data": {
      "image/png": "[encoded data removed]",
      "text/plain": [
       "<Figure size 640x480 with 1 Axes>"
      ]
     },
     "metadata": {},
     "output_type": "display_data"
    },
    {
     "data": {
      "image/png": "[encoded data removed]",
      "text/plain": [
       "<Figure size 640x480 with 1 Axes>"
      ]
     },
     "metadata": {},
     "output_type": "display_data"
    },
    {
     "data": {
      "image/png": "[encoded data removed]",
      "text/plain": [
       "<Figure size 640x480 with 1 Axes>"
      ]
     },
     "metadata": {},
     "output_type": "display_data"
    },
    {
     "data": {
      "image/png": "[encoded data removed]",
      "text/plain": [
       "<Figure size 640x480 with 1 Axes>"
      ]
     },
     "metadata": {},
     "output_type": "display_data"
    }
   ],
   "source": [
    "for i in ['Age','Protein1','Protein2', 'Protein3','Protein4',]:\n",
    "    plt.figsize=(10,5)\n",
    "    sns.boxplot(y = df[i])\n",
    "    plt.show()"
   ]
  },
  {
   "cell_type": "code",
   "execution_count": 38,
   "id": "aff543cf",
   "metadata": {},
   "outputs": [
    {
     "ename": "ModuleNotFoundError",
     "evalue": "No module named 'pandas_profiling'",
     "output_type": "error",
     "traceback": [
      "\u001b[1;31m---------------------------------------------------------------------------\u001b[0m",
      "\u001b[1;31mModuleNotFoundError\u001b[0m                       Traceback (most recent call last)",
      "Cell \u001b[1;32mIn[38], line 1\u001b[0m\n\u001b[1;32m----> 1\u001b[0m \u001b[38;5;28;01mimport\u001b[39;00m \u001b[38;5;21;01mpandas_profiling\u001b[39;00m\n\u001b[0;32m      2\u001b[0m \u001b[38;5;28;01mfrom\u001b[39;00m \u001b[38;5;21;01mpandas_profiling\u001b[39;00m \u001b[38;5;28;01mimport\u001b[39;00m ProfileReport\n\u001b[0;32m      3\u001b[0m ProfileReport(df, title\u001b[38;5;241m=\u001b[39m\u001b[38;5;124m\"\u001b[39m\u001b[38;5;124mEDA Report of Breast Cancer Dataset\u001b[39m\u001b[38;5;124m\"\u001b[39m)\n",
      "\u001b[1;31mModuleNotFoundError\u001b[0m: No module named 'pandas_profiling'"
     ]
    }
   ],
   "source": [
    "import pandas_profiling\n",
    "from pandas_profiling import ProfileReport\n",
    "ProfileReport(df, title=\"EDA Report of Breast Cancer Dataset\")"
   ]
  },
  {
   "cell_type": "code",
   "execution_count": 2,
   "id": "94270320",
   "metadata": {},
   "outputs": [
    {
     "ename": "ImportError",
     "evalue": "cannot import name 'DataError' from 'pandas.core.base' (C:\\Users\\Ananna\\AppData\\Roaming\\Python\\Python311\\site-packages\\pandas\\core\\base.py)",
     "output_type": "error",
     "traceback": [
      "\u001b[1;31m---------------------------------------------------------------------------\u001b[0m",
      "\u001b[1;31mImportError\u001b[0m                               Traceback (most recent call last)",
      "Cell \u001b[1;32mIn[2], line 1\u001b[0m\n\u001b[1;32m----> 1\u001b[0m \u001b[38;5;28;01mimport\u001b[39;00m \u001b[38;5;21;01mpandas_profiling\u001b[39;00m\n\u001b[0;32m      2\u001b[0m \u001b[38;5;28;01mfrom\u001b[39;00m \u001b[38;5;21;01mpandas_profiling\u001b[39;00m \u001b[38;5;28;01mimport\u001b[39;00m ProfileReport\n",
      "File \u001b[1;32m~\\AppData\\Roaming\\Python\\Python311\\site-packages\\pandas_profiling\\__init__.py:6\u001b[0m\n\u001b[0;32m      1\u001b[0m \u001b[38;5;124;03m\"\"\"Main module of pandas-profiling.\u001b[39;00m\n\u001b[0;32m      2\u001b[0m \n\u001b[0;32m      3\u001b[0m \u001b[38;5;124;03m.. include:: ../../README.md\u001b[39;00m\n\u001b[0;32m      4\u001b[0m \u001b[38;5;124;03m\"\"\"\u001b[39;00m\n\u001b[1;32m----> 6\u001b[0m \u001b[38;5;28;01mfrom\u001b[39;00m \u001b[38;5;21;01mpandas_profiling\u001b[39;00m\u001b[38;5;21;01m.\u001b[39;00m\u001b[38;5;21;01mcontroller\u001b[39;00m \u001b[38;5;28;01mimport\u001b[39;00m pandas_decorator\n\u001b[0;32m      7\u001b[0m \u001b[38;5;28;01mfrom\u001b[39;00m \u001b[38;5;21;01mpandas_profiling\u001b[39;00m\u001b[38;5;21;01m.\u001b[39;00m\u001b[38;5;21;01mprofile_report\u001b[39;00m \u001b[38;5;28;01mimport\u001b[39;00m ProfileReport\n\u001b[0;32m      8\u001b[0m \u001b[38;5;28;01mfrom\u001b[39;00m \u001b[38;5;21;01mpandas_profiling\u001b[39;00m\u001b[38;5;21;01m.\u001b[39;00m\u001b[38;5;21;01mversion\u001b[39;00m \u001b[38;5;28;01mimport\u001b[39;00m __version__\n",
      "File \u001b[1;32m~\\AppData\\Roaming\\Python\\Python311\\site-packages\\pandas_profiling\\controller\\pandas_decorator.py:4\u001b[0m\n\u001b[0;32m      1\u001b[0m \u001b[38;5;124;03m\"\"\"This file add the decorator on the DataFrame object.\"\"\"\u001b[39;00m\n\u001b[0;32m      2\u001b[0m \u001b[38;5;28;01mfrom\u001b[39;00m \u001b[38;5;21;01mpandas\u001b[39;00m \u001b[38;5;28;01mimport\u001b[39;00m DataFrame\n\u001b[1;32m----> 4\u001b[0m \u001b[38;5;28;01mfrom\u001b[39;00m \u001b[38;5;21;01mpandas_profiling\u001b[39;00m\u001b[38;5;21;01m.\u001b[39;00m\u001b[38;5;21;01mprofile_report\u001b[39;00m \u001b[38;5;28;01mimport\u001b[39;00m ProfileReport\n\u001b[0;32m      7\u001b[0m \u001b[38;5;28;01mdef\u001b[39;00m \u001b[38;5;21mprofile_report\u001b[39m(df: DataFrame, \u001b[38;5;241m*\u001b[39m\u001b[38;5;241m*\u001b[39mkwargs) \u001b[38;5;241m-\u001b[39m\u001b[38;5;241m>\u001b[39m ProfileReport:\n\u001b[0;32m      8\u001b[0m \u001b[38;5;250m    \u001b[39m\u001b[38;5;124;03m\"\"\"Profile a DataFrame.\u001b[39;00m\n\u001b[0;32m      9\u001b[0m \n\u001b[0;32m     10\u001b[0m \u001b[38;5;124;03m    Args:\u001b[39;00m\n\u001b[1;32m   (...)\u001b[0m\n\u001b[0;32m     15\u001b[0m \u001b[38;5;124;03m        A ProfileReport of the DataFrame.\u001b[39;00m\n\u001b[0;32m     16\u001b[0m \u001b[38;5;124;03m    \"\"\"\u001b[39;00m\n",
      "File \u001b[1;32m~\\AppData\\Roaming\\Python\\Python311\\site-packages\\pandas_profiling\\profile_report.py:15\u001b[0m\n\u001b[0;32m     13\u001b[0m \u001b[38;5;28;01mfrom\u001b[39;00m \u001b[38;5;21;01mpandas_profiling\u001b[39;00m\u001b[38;5;21;01m.\u001b[39;00m\u001b[38;5;21;01mconfig\u001b[39;00m \u001b[38;5;28;01mimport\u001b[39;00m Config, Settings\n\u001b[0;32m     14\u001b[0m \u001b[38;5;28;01mfrom\u001b[39;00m \u001b[38;5;21;01mpandas_profiling\u001b[39;00m\u001b[38;5;21;01m.\u001b[39;00m\u001b[38;5;21;01mexpectations_report\u001b[39;00m \u001b[38;5;28;01mimport\u001b[39;00m ExpectationsReport\n\u001b[1;32m---> 15\u001b[0m \u001b[38;5;28;01mfrom\u001b[39;00m \u001b[38;5;21;01mpandas_profiling\u001b[39;00m\u001b[38;5;21;01m.\u001b[39;00m\u001b[38;5;21;01mmodel\u001b[39;00m\u001b[38;5;21;01m.\u001b[39;00m\u001b[38;5;21;01malerts\u001b[39;00m \u001b[38;5;28;01mimport\u001b[39;00m AlertType\n\u001b[0;32m     16\u001b[0m \u001b[38;5;28;01mfrom\u001b[39;00m \u001b[38;5;21;01mpandas_profiling\u001b[39;00m\u001b[38;5;21;01m.\u001b[39;00m\u001b[38;5;21;01mmodel\u001b[39;00m\u001b[38;5;21;01m.\u001b[39;00m\u001b[38;5;21;01mdescribe\u001b[39;00m \u001b[38;5;28;01mimport\u001b[39;00m describe \u001b[38;5;28;01mas\u001b[39;00m describe_df\n\u001b[0;32m     17\u001b[0m \u001b[38;5;28;01mfrom\u001b[39;00m \u001b[38;5;21;01mpandas_profiling\u001b[39;00m\u001b[38;5;21;01m.\u001b[39;00m\u001b[38;5;21;01mmodel\u001b[39;00m\u001b[38;5;21;01m.\u001b[39;00m\u001b[38;5;21;01msample\u001b[39;00m \u001b[38;5;28;01mimport\u001b[39;00m Sample\n",
      "File \u001b[1;32m~\\AppData\\Roaming\\Python\\Python311\\site-packages\\pandas_profiling\\model\\alerts.py:10\u001b[0m\n\u001b[0;32m      7\u001b[0m \u001b[38;5;28;01mimport\u001b[39;00m \u001b[38;5;21;01mpandas\u001b[39;00m \u001b[38;5;28;01mas\u001b[39;00m \u001b[38;5;21;01mpd\u001b[39;00m\n\u001b[0;32m      9\u001b[0m \u001b[38;5;28;01mfrom\u001b[39;00m \u001b[38;5;21;01mpandas_profiling\u001b[39;00m\u001b[38;5;21;01m.\u001b[39;00m\u001b[38;5;21;01mconfig\u001b[39;00m \u001b[38;5;28;01mimport\u001b[39;00m Settings\n\u001b[1;32m---> 10\u001b[0m \u001b[38;5;28;01mfrom\u001b[39;00m \u001b[38;5;21;01mpandas_profiling\u001b[39;00m\u001b[38;5;21;01m.\u001b[39;00m\u001b[38;5;21;01mmodel\u001b[39;00m\u001b[38;5;21;01m.\u001b[39;00m\u001b[38;5;21;01mcorrelations\u001b[39;00m \u001b[38;5;28;01mimport\u001b[39;00m perform_check_correlation\n\u001b[0;32m     13\u001b[0m \u001b[38;5;129m@unique\u001b[39m\n\u001b[0;32m     14\u001b[0m \u001b[38;5;28;01mclass\u001b[39;00m \u001b[38;5;21;01mAlertType\u001b[39;00m(Enum):\n\u001b[0;32m     15\u001b[0m \u001b[38;5;250m    \u001b[39m\u001b[38;5;124;03m\"\"\"Alert types\"\"\"\u001b[39;00m\n",
      "File \u001b[1;32m~\\AppData\\Roaming\\Python\\Python311\\site-packages\\pandas_profiling\\model\\correlations.py:8\u001b[0m\n\u001b[0;32m      6\u001b[0m \u001b[38;5;28;01mimport\u001b[39;00m \u001b[38;5;21;01mpandas\u001b[39;00m \u001b[38;5;28;01mas\u001b[39;00m \u001b[38;5;21;01mpd\u001b[39;00m\n\u001b[0;32m      7\u001b[0m \u001b[38;5;28;01mfrom\u001b[39;00m \u001b[38;5;21;01mmultimethod\u001b[39;00m \u001b[38;5;28;01mimport\u001b[39;00m multimethod\n\u001b[1;32m----> 8\u001b[0m \u001b[38;5;28;01mfrom\u001b[39;00m \u001b[38;5;21;01mpandas\u001b[39;00m\u001b[38;5;21;01m.\u001b[39;00m\u001b[38;5;21;01mcore\u001b[39;00m\u001b[38;5;21;01m.\u001b[39;00m\u001b[38;5;21;01mbase\u001b[39;00m \u001b[38;5;28;01mimport\u001b[39;00m DataError\n\u001b[0;32m     10\u001b[0m \u001b[38;5;28;01mfrom\u001b[39;00m \u001b[38;5;21;01mpandas_profiling\u001b[39;00m\u001b[38;5;21;01m.\u001b[39;00m\u001b[38;5;21;01mconfig\u001b[39;00m \u001b[38;5;28;01mimport\u001b[39;00m Settings\n\u001b[0;32m     13\u001b[0m \u001b[38;5;28;01mclass\u001b[39;00m \u001b[38;5;21;01mCorrelation\u001b[39;00m:\n",
      "\u001b[1;31mImportError\u001b[0m: cannot import name 'DataError' from 'pandas.core.base' (C:\\Users\\Ananna\\AppData\\Roaming\\Python\\Python311\\site-packages\\pandas\\core\\base.py)"
     ]
    }
   ],
   "source": [
    "import pandas_profiling\n",
    "from pandas_profiling import ProfileReport"
   ]
  },
  {
   "cell_type": "code",
   "execution_count": 41,
   "id": "ba1ca1a5",
   "metadata": {},
   "outputs": [
    {
     "ename": "ModuleNotFoundError",
     "evalue": "No module named 'pycaret'",
     "output_type": "error",
     "traceback": [
      "\u001b[1;31m---------------------------------------------------------------------------\u001b[0m",
      "\u001b[1;31mModuleNotFoundError\u001b[0m                       Traceback (most recent call last)",
      "Cell \u001b[1;32mIn[41], line 1\u001b[0m\n\u001b[1;32m----> 1\u001b[0m \u001b[38;5;28;01mfrom\u001b[39;00m \u001b[38;5;21;01mpycaret\u001b[39;00m\u001b[38;5;21;01m.\u001b[39;00m\u001b[38;5;21;01mclassification\u001b[39;00m \u001b[38;5;28;01mimport\u001b[39;00m \u001b[38;5;241m*\u001b[39m\n",
      "\u001b[1;31mModuleNotFoundError\u001b[0m: No module named 'pycaret'"
     ]
    }
   ],
   "source": [
    "from pycaret.classification import *"
   ]
  },
  {
   "cell_type": "code",
   "execution_count": 42,
   "id": "05dbb2cd",
   "metadata": {},
   "outputs": [
    {
     "ename": "NameError",
     "evalue": "name 'setup' is not defined",
     "output_type": "error",
     "traceback": [
      "\u001b[1;31m---------------------------------------------------------------------------\u001b[0m",
      "\u001b[1;31mNameError\u001b[0m                                 Traceback (most recent call last)",
      "Cell \u001b[1;32mIn[42], line 1\u001b[0m\n\u001b[1;32m----> 1\u001b[0m cancer \u001b[38;5;241m=\u001b[39m setup(data \u001b[38;5;241m=\u001b[39mdf, target \u001b[38;5;241m=\u001b[39m \u001b[38;5;124m'\u001b[39m\u001b[38;5;124mPatient_Status\u001b[39m\u001b[38;5;124m'\u001b[39m,\n\u001b[0;32m      2\u001b[0m              normalize \u001b[38;5;241m=\u001b[39m \u001b[38;5;28;01mTrue\u001b[39;00m,\n\u001b[0;32m      3\u001b[0m               Transformation \u001b[38;5;241m=\u001b[39m \u001b[38;5;28;01mTrue\u001b[39;00m,\n\u001b[0;32m      4\u001b[0m               log_experiment \u001b[38;5;241m=\u001b[39m \u001b[38;5;28;01mTrue\u001b[39;00m,\n\u001b[0;32m      5\u001b[0m               remove_multicollinearity \u001b[38;5;241m=\u001b[39m \u001b[38;5;28;01mTrue\u001b[39;00m, \u001b[38;5;66;03m#drop one of the two features that are highly correlated to each other\u001b[39;00m\n\u001b[0;32m      6\u001b[0m               numeric_imputation\u001b[38;5;241m=\u001b[39m\u001b[38;5;124m'\u001b[39m\u001b[38;5;124mmedian\u001b[39m\u001b[38;5;124m'\u001b[39m,\n\u001b[0;32m      7\u001b[0m               fold\u001b[38;5;241m=\u001b[39m\u001b[38;5;241m5\u001b[39m,\n\u001b[0;32m      8\u001b[0m               train_size\u001b[38;5;241m=\u001b[39m\u001b[38;5;241m0.70\u001b[39m\n\u001b[0;32m      9\u001b[0m         )\n",
      "\u001b[1;31mNameError\u001b[0m: name 'setup' is not defined"
     ]
    }
   ],
   "source": [
    "cancer = setup(data =df, target = 'Patient_Status',\n",
    "             normalize = True,\n",
    "              Transformation = True,\n",
    "              log_experiment = True,\n",
    "              remove_multicollinearity = True, #drop one of the two features that are highly correlated to each other\n",
    "              numeric_imputation='median',\n",
    "              fold=5,\n",
    "              train_size=0.70\n",
    "        )"
   ]
  },
  {
   "cell_type": "code",
   "execution_count": 43,
   "id": "d1820ad8",
   "metadata": {},
   "outputs": [
    {
     "ename": "NameError",
     "evalue": "name 'create_model' is not defined",
     "output_type": "error",
     "traceback": [
      "\u001b[1;31m---------------------------------------------------------------------------\u001b[0m",
      "\u001b[1;31mNameError\u001b[0m                                 Traceback (most recent call last)",
      "Cell \u001b[1;32mIn[43], line 1\u001b[0m\n\u001b[1;32m----> 1\u001b[0m rf \u001b[38;5;241m=\u001b[39m create_model(\u001b[38;5;124m'\u001b[39m\u001b[38;5;124mrf\u001b[39m\u001b[38;5;124m'\u001b[39m)\n",
      "\u001b[1;31mNameError\u001b[0m: name 'create_model' is not defined"
     ]
    }
   ],
   "source": [
    "rf = create_model('rf')"
   ]
  },
  {
   "cell_type": "code",
   "execution_count": 44,
   "id": "0c87e968",
   "metadata": {},
   "outputs": [
    {
     "ename": "NameError",
     "evalue": "name 'get_config' is not defined",
     "output_type": "error",
     "traceback": [
      "\u001b[1;31m---------------------------------------------------------------------------\u001b[0m",
      "\u001b[1;31mNameError\u001b[0m                                 Traceback (most recent call last)",
      "Cell \u001b[1;32mIn[44], line 2\u001b[0m\n\u001b[0;32m      1\u001b[0m \u001b[38;5;66;03m#check all available config\u001b[39;00m\n\u001b[1;32m----> 2\u001b[0m get_config()\n",
      "\u001b[1;31mNameError\u001b[0m: name 'get_config' is not defined"
     ]
    }
   ],
   "source": [
    "#check all available config\n",
    "get_config()"
   ]
  },
  {
   "cell_type": "code",
   "execution_count": null,
   "id": "74f235b2",
   "metadata": {},
   "outputs": [],
   "source": [
    "get_config('X_test')"
   ]
  },
  {
   "cell_type": "code",
   "execution_count": null,
   "id": "b7c3c412",
   "metadata": {},
   "outputs": [],
   "source": [
    "get_config('X_test_transformed')"
   ]
  },
  {
   "cell_type": "code",
   "execution_count": null,
   "id": "82281cc6",
   "metadata": {},
   "outputs": [],
   "source": [
    "get_config('target_param')"
   ]
  },
  {
   "cell_type": "code",
   "execution_count": null,
   "id": "3faba88d",
   "metadata": {},
   "outputs": [],
   "source": [
    "compare_models()"
   ]
  },
  {
   "cell_type": "code",
   "execution_count": null,
   "id": "77c612ec",
   "metadata": {},
   "outputs": [],
   "source": [
    "catb1 = create_model('ridge')"
   ]
  },
  {
   "cell_type": "code",
   "execution_count": null,
   "id": "d09d2d8b",
   "metadata": {},
   "outputs": [],
   "source": [
    "catb= create_model('catboost')"
   ]
  },
  {
   "cell_type": "code",
   "execution_count": null,
   "id": "3daef2d4",
   "metadata": {},
   "outputs": [],
   "source": [
    "evaluate_model(rf)"
   ]
  },
  {
   "cell_type": "code",
   "execution_count": null,
   "id": "c98e70fd",
   "metadata": {},
   "outputs": [],
   "source": [
    "unseen_predictions = predict_model(rf, data = df)\n",
    "unseen_predictions.head()"
   ]
  },
  {
   "cell_type": "markdown",
   "id": "b7e69921",
   "metadata": {},
   "source": [
    "# Save RF as pickle"
   ]
  },
  {
   "cell_type": "code",
   "execution_count": null,
   "id": "a6d5b283",
   "metadata": {},
   "outputs": [],
   "source": [
    "save_model(rf, 'model_rf')"
   ]
  },
  {
   "cell_type": "code",
   "execution_count": null,
   "id": "8541713e",
   "metadata": {},
   "outputs": [],
   "source": [
    "from pycaret.classification import load_model\n",
    "loaded_model = load_model('model_rf')"
   ]
  },
  {
   "cell_type": "code",
   "execution_count": null,
   "id": "00fee3b0",
   "metadata": {},
   "outputs": [],
   "source": [
    "#pipeline\n",
    "from IPython.display import Image\n",
    "Image(filename = 'pipeline.png')"
   ]
  },
  {
   "cell_type": "markdown",
   "id": "be006679",
   "metadata": {},
   "source": [
    "# Prediction"
   ]
  },
  {
   "cell_type": "code",
   "execution_count": null,
   "id": "ae8e253a",
   "metadata": {},
   "outputs": [],
   "source": [
    "unseen_predictions2 = predict_model(loaded_model, data = df)\n",
    "unseen_predictions2.head()"
   ]
  },
  {
   "cell_type": "markdown",
   "id": "9bef368a",
   "metadata": {},
   "source": [
    "# Random Over Sampler"
   ]
  },
  {
   "cell_type": "code",
   "execution_count": null,
   "id": "03fbb4a8",
   "metadata": {},
   "outputs": [],
   "source": [
    "from imblearn.over_sampling import RandomOverSampler\n",
    "ros = RandomOverSampler(random_staten=0)\n",
    "x_resampled, y_resampled = ros.fit_resample(df.drop('Patient_Status', axis=1) , df[['Patient_Status']])"
   ]
  },
  {
   "cell_type": "code",
   "execution_count": null,
   "id": "1466a5de",
   "metadata": {},
   "outputs": [],
   "source": [
    "x_resampled.head()"
   ]
  },
  {
   "cell_type": "code",
   "execution_count": null,
   "id": "94edb279",
   "metadata": {},
   "outputs": [],
   "source": [
    "x_resampled.shape"
   ]
  },
  {
   "cell_type": "code",
   "execution_count": null,
   "id": "1d40446b",
   "metadata": {},
   "outputs": [],
   "source": [
    "y_resampled.shape"
   ]
  },
  {
   "cell_type": "code",
   "execution_count": null,
   "id": "3323015a",
   "metadata": {},
   "outputs": [],
   "source": [
    "df2 = pd.concat([x_resampled, y_resampled], axis=1)\n",
    "df2.shape"
   ]
  },
  {
   "cell_type": "code",
   "execution_count": null,
   "id": "e7d95532",
   "metadata": {},
   "outputs": [],
   "source": [
    "df2.head()"
   ]
  },
  {
   "cell_type": "code",
   "execution_count": null,
   "id": "ed5dddb3",
   "metadata": {},
   "outputs": [],
   "source": []
  }
 ],
 "metadata": {
  "kernelspec": {
   "display_name": "Python 3 (ipykernel)",
   "language": "python",
   "name": "python3"
  },
  "language_info": {
   "codemirror_mode": {
    "name": "ipython",
    "version": 3
   },
   "file_extension": ".py",
   "mimetype": "text/x-python",
   "name": "python",
   "nbconvert_exporter": "python",
   "pygments_lexer": "ipython3",
   "version": "3.11.5"
  }
 },
 "nbformat": 4,
 "nbformat_minor": 5
}
